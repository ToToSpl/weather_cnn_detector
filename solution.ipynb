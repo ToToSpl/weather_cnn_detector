{
 "cells": [
  {
   "cell_type": "markdown",
   "metadata": {},
   "source": [
    "# Created by Jacek Grzybowski"
   ]
  },
  {
   "cell_type": "markdown",
   "metadata": {},
   "source": [
    "## Part 1"
   ]
  },
  {
   "cell_type": "code",
   "execution_count": 173,
   "metadata": {},
   "outputs": [],
   "source": [
    "# import libraries\n",
    "import cv2\n",
    "import numpy as np\n",
    "import tensorflow.keras as keras\n",
    "import tensorflow as tf\n",
    "from tensorflow.keras.models import Sequential\n",
    "from tensorflow.keras.layers import Dense, Conv2D, Flatten, BatchNormalization, Activation, MaxPooling2D, Dropout\n",
    "from sklearn.metrics import classification_report, confusion_matrix, accuracy_score, cohen_kappa_score\n",
    "from sklearn.utils import shuffle\n",
    "from pathlib import Path\n",
    "import os"
   ]
  },
  {
   "cell_type": "code",
   "execution_count": 191,
   "metadata": {},
   "outputs": [],
   "source": [
    "# load images as grayscale 64 by 64 \n",
    "cloudyPath = Path('weather/cloudy').glob('*.jpg')\n",
    "rainPath = Path('weather/rain').glob('*.jpg')\n",
    "shinePath = Path('weather/shine').glob('*.jpg')\n",
    "sunrisePath = Path('weather/sunrise').glob('*.jpg')\n",
    "\n",
    "def toDataSetImg(path):\n",
    "    img = cv2.imread(path)\n",
    "    img.resize((64, 64, 3))\n",
    "    return img\n",
    "\n",
    "cloudyAll = []\n",
    "for p in cloudyPath:\n",
    "    cloudyAll.append(toDataSetImg(str(p)))\n",
    "\n",
    "rainAll = []\n",
    "for p in rainPath:\n",
    "    rainAll.append(toDataSetImg(str(p)))\n",
    "\n",
    "shineAll = []\n",
    "for p in shinePath:\n",
    "    shineAll.append(toDataSetImg(str(p)))\n",
    "\n",
    "sunriseAll = []\n",
    "for p in sunrisePath:\n",
    "    sunriseAll.append(toDataSetImg(str(p)))"
   ]
  },
  {
   "cell_type": "code",
   "execution_count": 175,
   "metadata": {},
   "outputs": [
    {
     "name": "stdout",
     "output_type": "stream",
     "text": [
      "cloudy: 300\n",
      "rain: 212\n",
      "shine: 252\n",
      "sunrise 356\n"
     ]
    }
   ],
   "source": [
    "#check if the datasets have the same size\n",
    "print(\"cloudy:\", len(cloudyAll))\n",
    "print(\"rain:\", len(rainAll))\n",
    "print(\"shine:\", len(shineAll))\n",
    "print(\"sunrise\", len(sunriseAll))"
   ]
  },
  {
   "cell_type": "code",
   "execution_count": 176,
   "metadata": {},
   "outputs": [],
   "source": [
    "# divide to test and train dataset with ratio 25 / 75\n",
    "maxSize = 200 #min(len(cloudyAll), len(rainAll), len(shineAll), len(sunriseAll))\n",
    "trainSize = int(maxSize * 0.75)\n",
    "\n",
    "trainCloud = cloudyAll[0: trainSize]\n",
    "trainYCloud = [\"cloud\"] * len(trainCloud)\n",
    "testCloud = cloudyAll[trainSize-1: -1]\n",
    "testYCloud = [\"cloud\"] * len(testCloud)\n",
    "\n",
    "trainSunrise = sunriseAll[0: trainSize]\n",
    "trainYSunrise = [\"sunrise\"] * len(trainSunrise)\n",
    "testSunrise = sunriseAll[trainSize-1: -1]\n",
    "testYSunrise = [\"sunrise\"] * len(testSunrise)\n",
    "\n",
    "trainRain = rainAll[0: trainSize]\n",
    "trainYRain = [\"rain\"] * len(trainRain)\n",
    "testRain = rainAll[trainSize-1: -1]\n",
    "testYRain = [\"rain\"] * len(testRain)\n",
    "\n",
    "trainShine = shineAll[0: trainSize]\n",
    "trainYShine = [\"shine\"] * len(trainShine)\n",
    "testShine = shineAll[trainSize-1: -1]\n",
    "testYShine = [] * len(testShine)\n"
   ]
  },
  {
   "cell_type": "code",
   "execution_count": 177,
   "metadata": {},
   "outputs": [
    {
     "name": "stdout",
     "output_type": "stream",
     "text": [
      "(300, 64, 64, 3)\n",
      "(300, 2)\n"
     ]
    }
   ],
   "source": [
    "# create end train/test dataset\n",
    "\n",
    "X_train = []\n",
    "X_train.extend(trainCloud)\n",
    "X_train.extend(trainSunrise)\n",
    "X_train = np.array(X_train)\n",
    "\n",
    "y_train = []\n",
    "y_train.extend(trainYCloud)\n",
    "y_train.extend(trainYSunrise)\n",
    "y_train = keras.utils.to_categorical(y_train)\n",
    "\n",
    "X_test = []\n",
    "X_test.extend(testCloud)\n",
    "X_test.extend(testSunrise)\n",
    "X_test = np.array(X_test)\n",
    "\n",
    "y_test = []\n",
    "y_test.extend(testYCloud)\n",
    "y_test.extend(testYSunrise)\n",
    "y_test = keras.utils.to_categorical(y_test)\n",
    "\n",
    "\n",
    "\n",
    "print(X_train.shape)\n",
    "print(y_train.shape)\n"
   ]
  },
  {
   "cell_type": "code",
   "execution_count": 178,
   "metadata": {},
   "outputs": [],
   "source": [
    "# create and compie model\n",
    "model = Sequential()\n",
    "model.add(Conv2D(16, (3, 3), padding=\"same\",input_shape=(64,64,3)))\n",
    "model.add(BatchNormalization())\n",
    "model.add(Activation(\"relu\"))\n",
    "model.add(MaxPooling2D(pool_size=(2, 2)))\n",
    "model.add(Conv2D(32, (3, 3), padding=\"same\"))\n",
    "model.add(BatchNormalization())\n",
    "model.add(Activation(\"relu\"))\n",
    "model.add(MaxPooling2D(pool_size=(2, 2)))\n",
    "model.add(Dropout(0.25))\n",
    "\n",
    "model.add(Flatten())\n",
    "model.add(Dense(512))\n",
    "model.add(Activation(\"relu\"))\n",
    "model.add(Dense(256))\n",
    "model.add(Activation(\"relu\"))\n",
    "model.add(Dense(2))\n",
    "model.add(Activation(\"softmax\"))\n",
    "model.compile(optimizer='adam', loss='categorical_crossentropy', metrics=['accuracy'])\n"
   ]
  },
  {
   "cell_type": "code",
   "execution_count": 179,
   "metadata": {},
   "outputs": [
    {
     "name": "stdout",
     "output_type": "stream",
     "text": [
      "Epoch 1/12\n",
      "10/10 [==============================] - 2s 132ms/step - loss: 2.3159 - accuracy: 0.6400 - val_loss: 3.6346 - val_accuracy: 0.5646\n",
      "Epoch 2/12\n",
      "10/10 [==============================] - 1s 118ms/step - loss: 1.0763 - accuracy: 0.7600 - val_loss: 9.4456 - val_accuracy: 0.5758\n",
      "Epoch 3/12\n",
      "10/10 [==============================] - 1s 115ms/step - loss: 0.9123 - accuracy: 0.7600 - val_loss: 6.5320 - val_accuracy: 0.6685\n",
      "Epoch 4/12\n",
      "10/10 [==============================] - 1s 117ms/step - loss: 0.8136 - accuracy: 0.8067 - val_loss: 5.0715 - val_accuracy: 0.5843\n",
      "Epoch 5/12\n",
      "10/10 [==============================] - 1s 139ms/step - loss: 0.6400 - accuracy: 0.8400 - val_loss: 1.0808 - val_accuracy: 0.7753\n",
      "Epoch 6/12\n",
      "10/10 [==============================] - 2s 188ms/step - loss: 0.3510 - accuracy: 0.8400 - val_loss: 2.6375 - val_accuracy: 0.6826\n",
      "Epoch 7/12\n",
      "10/10 [==============================] - 2s 189ms/step - loss: 0.5696 - accuracy: 0.8433 - val_loss: 0.6050 - val_accuracy: 0.7556\n",
      "Epoch 8/12\n",
      "10/10 [==============================] - 2s 184ms/step - loss: 0.3420 - accuracy: 0.8400 - val_loss: 0.6218 - val_accuracy: 0.6938\n",
      "Epoch 9/12\n",
      "10/10 [==============================] - 2s 156ms/step - loss: 0.3726 - accuracy: 0.8600 - val_loss: 0.9874 - val_accuracy: 0.7528\n",
      "Epoch 10/12\n",
      "10/10 [==============================] - 1s 150ms/step - loss: 0.2250 - accuracy: 0.9133 - val_loss: 0.3800 - val_accuracy: 0.8146\n",
      "Epoch 11/12\n",
      "10/10 [==============================] - 1s 149ms/step - loss: 0.2425 - accuracy: 0.8867 - val_loss: 1.5090 - val_accuracy: 0.7584\n",
      "Epoch 12/12\n",
      "10/10 [==============================] - 2s 153ms/step - loss: 0.2949 - accuracy: 0.8933 - val_loss: 0.5903 - val_accuracy: 0.8034\n"
     ]
    },
    {
     "data": {
      "text/plain": [
       "<keras.callbacks.History at 0x15c5dc520>"
      ]
     },
     "execution_count": 179,
     "metadata": {},
     "output_type": "execute_result"
    }
   ],
   "source": [
    "# train model\n",
    "model.fit(X_train, y_train, validation_data=(X_test, y_test), epochs=12)"
   ]
  },
  {
   "cell_type": "code",
   "execution_count": 180,
   "metadata": {},
   "outputs": [
    {
     "name": "stdout",
     "output_type": "stream",
     "text": [
      "[[132  18]\n",
      " [ 52 154]]\n",
      "              precision    recall  f1-score   support\n",
      "\n",
      "           0       0.72      0.88      0.79       150\n",
      "           1       0.90      0.75      0.81       206\n",
      "\n",
      "    accuracy                           0.80       356\n",
      "   macro avg       0.81      0.81      0.80       356\n",
      "weighted avg       0.82      0.80      0.80       356\n",
      "\n",
      "Cohen's Kappa: 0.6088157729498933\n",
      "Accuracy:  0.8033707865168539\n"
     ]
    }
   ],
   "source": [
    "# results\n",
    "testResults = model.predict(X_test)\n",
    "\n",
    "print(confusion_matrix(y_test.argmax(axis=1), testResults.argmax(axis=1)))\n",
    "print(classification_report(y_test.argmax(axis=1), testResults.argmax(axis=1)))\n",
    "print(\"Cohen's Kappa: {}\".format(cohen_kappa_score(y_test.argmax(axis=1), testResults.argmax(axis=1))))\n",
    "print(\"Accuracy: \",accuracy_score(y_test.argmax(axis=1), testResults.argmax(axis=1)))"
   ]
  },
  {
   "cell_type": "markdown",
   "metadata": {},
   "source": [
    "```\n",
    "[[132  18]\n",
    " [ 52 154]]\n",
    "              precision    recall  f1-score   support\n",
    "\n",
    "           0       0.72      0.88      0.79       150\n",
    "           1       0.90      0.75      0.81       206\n",
    "\n",
    "    accuracy                           0.80       356\n",
    "   macro avg       0.81      0.81      0.80       356\n",
    "weighted avg       0.82      0.80      0.80       356\n",
    "\n",
    "Cohen's Kappa: 0.6088157729498933\n",
    "Accuracy:  0.8033707865168539\n",
    "```"
   ]
  },
  {
   "cell_type": "markdown",
   "metadata": {},
   "source": [
    "## Part 2"
   ]
  },
  {
   "cell_type": "code",
   "execution_count": 181,
   "metadata": {},
   "outputs": [
    {
     "name": "stdout",
     "output_type": "stream",
     "text": [
      "(600, 64, 64, 3)\n",
      "(600, 4)\n"
     ]
    }
   ],
   "source": [
    "# extend train and test data\n",
    "\n",
    "X_train = []\n",
    "X_train.extend(trainCloud)\n",
    "X_train.extend(trainSunrise)\n",
    "X_train.extend(trainRain)\n",
    "X_train.extend(trainShine)\n",
    "X_train = np.array(X_train)\n",
    "\n",
    "y_train = []\n",
    "y_train.extend(trainYCloud)\n",
    "y_train.extend(trainYSunrise)\n",
    "y_train.extend(trainYRain)\n",
    "y_train.extend(trainYShine)\n",
    "y_train = keras.utils.to_categorical(y_train)\n",
    "\n",
    "X_test = []\n",
    "X_test.extend(testCloud)\n",
    "X_test.extend(testSunrise)\n",
    "X_test.extend(testRain)\n",
    "X_test.extend(testShine)\n",
    "X_test = np.array(X_test)\n",
    "\n",
    "y_test = []\n",
    "y_test.extend(testYCloud)\n",
    "y_test.extend(testYSunrise)\n",
    "y_test.extend(testYRain)\n",
    "y_test.extend(testYShine)\n",
    "y_test = keras.utils.to_categorical(y_test)\n",
    "\n",
    "y_train, X_train = shuffle(y_train, X_train)\n",
    "\n",
    "print(X_train.shape)\n",
    "print(y_train.shape)"
   ]
  },
  {
   "cell_type": "code",
   "execution_count": 182,
   "metadata": {},
   "outputs": [],
   "source": [
    "# create model\n",
    "model2 = Sequential()\n",
    "model2.add(Conv2D(16, (3, 3), padding=\"same\",input_shape=(64,64,3)))\n",
    "model2.add(BatchNormalization())\n",
    "model2.add(Activation(\"relu\"))\n",
    "model2.add(MaxPooling2D(pool_size=(2, 2)))\n",
    "model2.add(Conv2D(32, (3, 3), padding=\"same\"))\n",
    "model2.add(BatchNormalization())\n",
    "model2.add(Activation(\"relu\"))\n",
    "model2.add(MaxPooling2D(pool_size=(2, 2)))\n",
    "model2.add(Dropout(0.25))\n",
    "\n",
    "model2.add(Flatten())\n",
    "model2.add(Dense(512))\n",
    "model2.add(Activation(\"relu\"))\n",
    "model2.add(Dense(4))\n",
    "model2.add(Activation(\"softmax\"))\n",
    "model2.compile(optimizer='adam', loss='categorical_crossentropy', metrics=['accuracy'])\n"
   ]
  },
  {
   "cell_type": "code",
   "execution_count": 183,
   "metadata": {},
   "outputs": [
    {
     "name": "stdout",
     "output_type": "stream",
     "text": [
      "Epoch 1/24\n",
      "19/19 [==============================] - 4s 167ms/step - loss: 4.7254 - accuracy: 0.4533 - val_loss: 6.8611 - val_accuracy: 0.3038\n",
      "Epoch 2/24\n",
      "19/19 [==============================] - 3s 171ms/step - loss: 1.0562 - accuracy: 0.5683 - val_loss: 3.1281 - val_accuracy: 0.3962\n",
      "Epoch 3/24\n",
      "19/19 [==============================] - 2s 132ms/step - loss: 0.8461 - accuracy: 0.6583 - val_loss: 1.8994 - val_accuracy: 0.5077\n",
      "Epoch 4/24\n",
      "19/19 [==============================] - 3s 133ms/step - loss: 0.7670 - accuracy: 0.6883 - val_loss: 1.6227 - val_accuracy: 0.4712\n",
      "Epoch 5/24\n",
      "19/19 [==============================] - 3s 160ms/step - loss: 0.6963 - accuracy: 0.7100 - val_loss: 0.9843 - val_accuracy: 0.6327\n",
      "Epoch 6/24\n",
      "19/19 [==============================] - 3s 134ms/step - loss: 0.5446 - accuracy: 0.8050 - val_loss: 0.9389 - val_accuracy: 0.6577\n",
      "Epoch 7/24\n",
      "19/19 [==============================] - 3s 140ms/step - loss: 0.5294 - accuracy: 0.8050 - val_loss: 0.9834 - val_accuracy: 0.6558\n",
      "Epoch 8/24\n",
      "19/19 [==============================] - 3s 135ms/step - loss: 0.5327 - accuracy: 0.8000 - val_loss: 0.8588 - val_accuracy: 0.6827\n",
      "Epoch 9/24\n",
      "19/19 [==============================] - 3s 136ms/step - loss: 0.4614 - accuracy: 0.8233 - val_loss: 0.7463 - val_accuracy: 0.7327\n",
      "Epoch 10/24\n",
      "19/19 [==============================] - 3s 159ms/step - loss: 0.4262 - accuracy: 0.8500 - val_loss: 0.7899 - val_accuracy: 0.7308\n",
      "Epoch 11/24\n",
      "19/19 [==============================] - 3s 137ms/step - loss: 0.4300 - accuracy: 0.8317 - val_loss: 0.8135 - val_accuracy: 0.7519\n",
      "Epoch 12/24\n",
      "19/19 [==============================] - 3s 141ms/step - loss: 0.3805 - accuracy: 0.8317 - val_loss: 0.7737 - val_accuracy: 0.7423\n",
      "Epoch 13/24\n",
      "19/19 [==============================] - 3s 152ms/step - loss: 0.3094 - accuracy: 0.8733 - val_loss: 0.8578 - val_accuracy: 0.6885\n",
      "Epoch 14/24\n",
      "19/19 [==============================] - 2s 123ms/step - loss: 0.3453 - accuracy: 0.8733 - val_loss: 1.3656 - val_accuracy: 0.5808\n",
      "Epoch 15/24\n",
      "19/19 [==============================] - 3s 140ms/step - loss: 0.3471 - accuracy: 0.8567 - val_loss: 0.8499 - val_accuracy: 0.7462\n",
      "Epoch 16/24\n",
      "19/19 [==============================] - 2s 128ms/step - loss: 0.2718 - accuracy: 0.8933 - val_loss: 0.7608 - val_accuracy: 0.7288\n",
      "Epoch 17/24\n",
      "19/19 [==============================] - 2s 129ms/step - loss: 0.2992 - accuracy: 0.8817 - val_loss: 1.1371 - val_accuracy: 0.6288\n",
      "Epoch 18/24\n",
      "19/19 [==============================] - 2s 129ms/step - loss: 0.3527 - accuracy: 0.8567 - val_loss: 0.9197 - val_accuracy: 0.7115\n",
      "Epoch 19/24\n",
      "19/19 [==============================] - 2s 128ms/step - loss: 0.2872 - accuracy: 0.9083 - val_loss: 1.1444 - val_accuracy: 0.6404\n",
      "Epoch 20/24\n",
      "19/19 [==============================] - 2s 128ms/step - loss: 0.2027 - accuracy: 0.9150 - val_loss: 1.0928 - val_accuracy: 0.6577\n",
      "Epoch 21/24\n",
      "19/19 [==============================] - 2s 127ms/step - loss: 0.1742 - accuracy: 0.9317 - val_loss: 1.2728 - val_accuracy: 0.6250\n",
      "Epoch 22/24\n",
      "19/19 [==============================] - 2s 128ms/step - loss: 0.1672 - accuracy: 0.9517 - val_loss: 0.9635 - val_accuracy: 0.6846\n",
      "Epoch 23/24\n",
      "19/19 [==============================] - 2s 128ms/step - loss: 0.1405 - accuracy: 0.9550 - val_loss: 1.4314 - val_accuracy: 0.5923\n",
      "Epoch 24/24\n",
      "19/19 [==============================] - 3s 136ms/step - loss: 0.1446 - accuracy: 0.9483 - val_loss: 0.9155 - val_accuracy: 0.7327\n"
     ]
    },
    {
     "data": {
      "text/plain": [
       "<keras.callbacks.History at 0x15c7bf970>"
      ]
     },
     "execution_count": 183,
     "metadata": {},
     "output_type": "execute_result"
    }
   ],
   "source": [
    "# train model\n",
    "model2.fit(X_train, y_train, validation_data=(X_test, y_test), epochs=24)"
   ]
  },
  {
   "cell_type": "code",
   "execution_count": 184,
   "metadata": {},
   "outputs": [
    {
     "name": "stdout",
     "output_type": "stream",
     "text": [
      "[[102  20  16  12]\n",
      " [ 17 153  26  10]\n",
      " [  7   3  52   0]\n",
      " [ 13  13   2  74]]\n",
      "              precision    recall  f1-score   support\n",
      "\n",
      "           0       0.73      0.68      0.71       150\n",
      "           1       0.81      0.74      0.77       206\n",
      "           2       0.54      0.84      0.66        62\n",
      "           3       0.77      0.73      0.75       102\n",
      "\n",
      "    accuracy                           0.73       520\n",
      "   macro avg       0.71      0.75      0.72       520\n",
      "weighted avg       0.75      0.73      0.74       520\n",
      "\n",
      "Cohen's Kappa: 0.6290898641159325\n",
      "Accuracy:  0.7326923076923076\n"
     ]
    }
   ],
   "source": [
    "testResults = model2.predict(X_test)\n",
    "\n",
    "print(confusion_matrix(y_test.argmax(axis=1), testResults.argmax(axis=1)))\n",
    "print(classification_report(y_test.argmax(axis=1), testResults.argmax(axis=1)))\n",
    "print(\"Cohen's Kappa: {}\".format(cohen_kappa_score(y_test.argmax(axis=1), testResults.argmax(axis=1))))\n",
    "print(\"Accuracy: \",accuracy_score(y_test.argmax(axis=1), testResults.argmax(axis=1)))"
   ]
  },
  {
   "cell_type": "markdown",
   "metadata": {},
   "source": [
    "```\n",
    "[[102  20  16  12]\n",
    " [ 17 153  26  10]\n",
    " [  7   3  52   0]\n",
    " [ 13  13   2  74]]\n",
    "              precision    recall  f1-score   support\n",
    "\n",
    "           0       0.73      0.68      0.71       150\n",
    "           1       0.81      0.74      0.77       206\n",
    "           2       0.54      0.84      0.66        62\n",
    "           3       0.77      0.73      0.75       102\n",
    "\n",
    "    accuracy                           0.73       520\n",
    "   macro avg       0.71      0.75      0.72       520\n",
    "weighted avg       0.75      0.73      0.74       520\n",
    "\n",
    "Cohen's Kappa: 0.6290898641159325\n",
    "Accuracy:  0.7326923076923076\n",
    "```"
   ]
  }
 ],
 "metadata": {
  "interpreter": {
   "hash": "aee8b7b246df8f9039afb4144a1f6fd8d2ca17a180786b69acc140d282b71a49"
  },
  "kernelspec": {
   "display_name": "Python 3.9.5 64-bit",
   "language": "python",
   "name": "python3"
  },
  "language_info": {
   "codemirror_mode": {
    "name": "ipython",
    "version": 3
   },
   "file_extension": ".py",
   "mimetype": "text/x-python",
   "name": "python",
   "nbconvert_exporter": "python",
   "pygments_lexer": "ipython3",
   "version": "3.9.5"
  },
  "orig_nbformat": 4
 },
 "nbformat": 4,
 "nbformat_minor": 2
}
