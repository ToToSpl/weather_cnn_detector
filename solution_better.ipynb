{
 "cells": [
  {
   "cell_type": "markdown",
   "metadata": {},
   "source": [
    "# Created by Jacek Grzybowski\n",
    "## second attempt to make more accurate classification"
   ]
  },
  {
   "cell_type": "markdown",
   "metadata": {},
   "source": [
    "## Part 1"
   ]
  },
  {
   "cell_type": "code",
   "execution_count": 56,
   "metadata": {},
   "outputs": [],
   "source": [
    "# import libraries\n",
    "import cv2\n",
    "import numpy as np\n",
    "import tensorflow.keras as keras\n",
    "import tensorflow as tf\n",
    "from tensorflow.keras.models import Sequential\n",
    "from tensorflow.keras.layers import Dense, Conv2D, Flatten, BatchNormalization, Activation, MaxPooling2D, Dropout\n",
    "from sklearn.metrics import classification_report, confusion_matrix, accuracy_score, cohen_kappa_score\n",
    "from sklearn.model_selection import train_test_split\n",
    "from sklearn.preprocessing import LabelEncoder\n",
    "import os"
   ]
  },
  {
   "cell_type": "code",
   "execution_count": 57,
   "metadata": {},
   "outputs": [
    {
     "name": "stdout",
     "output_type": "stream",
     "text": [
      "Loading: cloudy\n",
      "Loading: sunrise\n",
      "loaded 657  samples\n",
      "classes {'cloudy', 'sunrise'}\n"
     ]
    }
   ],
   "source": [
    "def load_img(indir, exclude = []):\n",
    "    samples = []\n",
    "    labels = []\n",
    "    for class_dir in os.listdir(indir):\n",
    "        if not os.path.isdir(indir+'/'+class_dir): \n",
    "            continue\n",
    "        the_class = class_dir\n",
    "        if the_class in exclude:\n",
    "            continue\n",
    "        print(\"Loading:\",class_dir)\n",
    "        for file in os.listdir(indir+'/'+class_dir):\n",
    "            image = cv2.imread(\"{}/{}/{}\".format(indir,class_dir,file))\n",
    "            image = cv2.resize(image, (64,64))\n",
    "            samples.append(image)\n",
    "            labels.append(the_class)\n",
    "    samples = np.array(samples)\n",
    "    labels = np.array(labels)\n",
    "    return samples,labels\n",
    "samples, labels = load_img('weather', [\"rain\", \"shine\"])\n",
    "print('loaded',len(samples),' samples')\n",
    "print('classes',set(labels))\n",
    "org_samples = samples\n",
    "org_labels = labels"
   ]
  },
  {
   "cell_type": "code",
   "execution_count": 58,
   "metadata": {},
   "outputs": [
    {
     "name": "stdout",
     "output_type": "stream",
     "text": [
      "(492, 64, 64, 3)\n",
      "(492, 2)\n"
     ]
    }
   ],
   "source": [
    "# create end train/test dataset\n",
    "\n",
    "labels_vec = LabelEncoder().fit_transform(org_labels)\n",
    "one_hot_labels = keras.utils.to_categorical(labels_vec)\n",
    "# org_samples, one_hot_labels = shuffle(org_samples, one_hot_labels)\n",
    "\n",
    "X_train, X_test, y_train, y_test = train_test_split(org_samples, one_hot_labels, test_size=0.25, random_state=666)\n",
    "\n",
    "print(X_train.shape)\n",
    "print(y_train.shape)\n"
   ]
  },
  {
   "cell_type": "code",
   "execution_count": 59,
   "metadata": {},
   "outputs": [],
   "source": [
    "# create and compie model\n",
    "model = Sequential()\n",
    "model.add(Conv2D(16, (3, 3), padding=\"same\",input_shape=(64,64,3)))\n",
    "model.add(BatchNormalization())\n",
    "model.add(Activation(\"relu\"))\n",
    "model.add(MaxPooling2D(pool_size=(2, 2)))\n",
    "model.add(Dropout(0.25))\n",
    "\n",
    "model.add(Flatten())\n",
    "model.add(Dense(128))\n",
    "model.add(Activation(\"relu\"))\n",
    "model.add(Dense(2))\n",
    "model.add(Activation(\"softmax\"))\n",
    "model.compile(optimizer='adam', loss='categorical_crossentropy', metrics=['accuracy'])\n"
   ]
  },
  {
   "cell_type": "code",
   "execution_count": 60,
   "metadata": {},
   "outputs": [
    {
     "name": "stdout",
     "output_type": "stream",
     "text": [
      "Epoch 1/16\n",
      "31/31 [==============================] - 2s 56ms/step - loss: 0.9285 - accuracy: 0.8699 - val_loss: 0.7509 - val_accuracy: 0.9576\n",
      "Epoch 2/16\n",
      "31/31 [==============================] - 2s 70ms/step - loss: 0.1882 - accuracy: 0.9654 - val_loss: 0.9796 - val_accuracy: 0.9091\n",
      "Epoch 3/16\n",
      "31/31 [==============================] - 1s 38ms/step - loss: 0.1067 - accuracy: 0.9776 - val_loss: 0.0261 - val_accuracy: 0.9939\n",
      "Epoch 4/16\n",
      "31/31 [==============================] - 1s 45ms/step - loss: 0.0551 - accuracy: 0.9858 - val_loss: 0.0759 - val_accuracy: 0.9758\n",
      "Epoch 5/16\n",
      "31/31 [==============================] - 1s 40ms/step - loss: 0.0279 - accuracy: 0.9878 - val_loss: 0.2707 - val_accuracy: 0.9515\n",
      "Epoch 6/16\n",
      "31/31 [==============================] - 1s 39ms/step - loss: 0.1170 - accuracy: 0.9715 - val_loss: 0.2441 - val_accuracy: 0.9818\n",
      "Epoch 7/16\n",
      "31/31 [==============================] - 1s 37ms/step - loss: 0.1623 - accuracy: 0.9736 - val_loss: 0.1538 - val_accuracy: 0.9879\n",
      "Epoch 8/16\n",
      "31/31 [==============================] - 1s 38ms/step - loss: 0.0703 - accuracy: 0.9837 - val_loss: 0.1066 - val_accuracy: 0.9636\n",
      "Epoch 9/16\n",
      "31/31 [==============================] - 1s 44ms/step - loss: 0.0123 - accuracy: 0.9939 - val_loss: 0.0662 - val_accuracy: 0.9818\n",
      "Epoch 10/16\n",
      "31/31 [==============================] - 1s 38ms/step - loss: 0.0247 - accuracy: 0.9939 - val_loss: 0.0324 - val_accuracy: 0.9818\n",
      "Epoch 11/16\n",
      "31/31 [==============================] - 1s 41ms/step - loss: 8.8533e-04 - accuracy: 1.0000 - val_loss: 0.0087 - val_accuracy: 1.0000\n",
      "Epoch 12/16\n",
      "31/31 [==============================] - 1s 46ms/step - loss: 0.0076 - accuracy: 0.9980 - val_loss: 0.0078 - val_accuracy: 1.0000\n",
      "Epoch 13/16\n",
      "31/31 [==============================] - 1s 46ms/step - loss: 0.0025 - accuracy: 0.9980 - val_loss: 0.0071 - val_accuracy: 1.0000\n",
      "Epoch 14/16\n",
      "31/31 [==============================] - 1s 35ms/step - loss: 0.0016 - accuracy: 1.0000 - val_loss: 0.0077 - val_accuracy: 1.0000\n",
      "Epoch 15/16\n",
      "31/31 [==============================] - 1s 35ms/step - loss: 4.8387e-04 - accuracy: 1.0000 - val_loss: 0.0051 - val_accuracy: 1.0000\n",
      "Epoch 16/16\n",
      "31/31 [==============================] - 1s 42ms/step - loss: 0.0067 - accuracy: 0.9959 - val_loss: 0.2146 - val_accuracy: 0.9576\n"
     ]
    },
    {
     "data": {
      "text/plain": [
       "<keras.callbacks.History at 0x15973abb0>"
      ]
     },
     "execution_count": 60,
     "metadata": {},
     "output_type": "execute_result"
    }
   ],
   "source": [
    "# train model\n",
    "model.fit(X_train, y_train, validation_data=(X_test, y_test), epochs=16, batch_size=16)"
   ]
  },
  {
   "cell_type": "code",
   "execution_count": 61,
   "metadata": {},
   "outputs": [
    {
     "name": "stdout",
     "output_type": "stream",
     "text": [
      "[[79  0]\n",
      " [ 7 79]]\n",
      "              precision    recall  f1-score   support\n",
      "\n",
      "           0       0.92      1.00      0.96        79\n",
      "           1       1.00      0.92      0.96        86\n",
      "\n",
      "    accuracy                           0.96       165\n",
      "   macro avg       0.96      0.96      0.96       165\n",
      "weighted avg       0.96      0.96      0.96       165\n",
      "\n",
      "Cohen's Kappa: 0.9153039524822175\n",
      "Accuracy:  0.9575757575757575\n"
     ]
    }
   ],
   "source": [
    "# results\n",
    "testResults = model.predict(X_test)\n",
    "\n",
    "print(confusion_matrix(y_test.argmax(axis=1), testResults.argmax(axis=1)))\n",
    "print(classification_report(y_test.argmax(axis=1), testResults.argmax(axis=1)))\n",
    "print(\"Cohen's Kappa: {}\".format(cohen_kappa_score(y_test.argmax(axis=1), testResults.argmax(axis=1))))\n",
    "print(\"Accuracy: \",accuracy_score(y_test.argmax(axis=1), testResults.argmax(axis=1)))"
   ]
  },
  {
   "cell_type": "markdown",
   "metadata": {},
   "source": [
    "```\n",
    "[[79  0]\n",
    " [ 1 85]]\n",
    "              precision    recall  f1-score   support\n",
    "\n",
    "           0       0.99      1.00      0.99        79\n",
    "           1       1.00      0.99      0.99        86\n",
    "\n",
    "    accuracy                           0.99       165\n",
    "   macro avg       0.99      0.99      0.99       165\n",
    "weighted avg       0.99      0.99      0.99       165\n",
    "\n",
    "Cohen's Kappa: 0.9878631849944832\n",
    "Accuracy:  0.9939393939393939\n",
    "```"
   ]
  },
  {
   "cell_type": "markdown",
   "metadata": {},
   "source": [
    "## Part 2"
   ]
  },
  {
   "cell_type": "code",
   "execution_count": 62,
   "metadata": {},
   "outputs": [
    {
     "name": "stdout",
     "output_type": "stream",
     "text": [
      "Loading: cloudy\n",
      "Loading: rain\n",
      "Loading: shine\n",
      "Loading: sunrise\n",
      "loaded 1123  samples\n",
      "classes {'shine', 'cloudy', 'rain', 'sunrise'}\n"
     ]
    }
   ],
   "source": [
    "def load_img(indir, exclude = []):\n",
    "    samples = []\n",
    "    labels = []\n",
    "    for class_dir in os.listdir(indir):\n",
    "        if not os.path.isdir(indir+'/'+class_dir): \n",
    "            continue\n",
    "        the_class = class_dir\n",
    "        if the_class in exclude:\n",
    "            continue\n",
    "        print(\"Loading:\",class_dir)\n",
    "        for file in os.listdir(indir+'/'+class_dir):\n",
    "            image = cv2.imread(\"{}/{}/{}\".format(indir,class_dir,file))\n",
    "            image = cv2.resize(image, (64,64))\n",
    "            samples.append(image)\n",
    "            labels.append(the_class)\n",
    "    samples = np.array(samples)\n",
    "    labels = np.array(labels)\n",
    "    return samples,labels\n",
    "samples, labels = load_img('weather')\n",
    "print('loaded',len(samples),' samples')\n",
    "print('classes',set(labels))\n",
    "org_samples = samples\n",
    "org_labels = labels\n",
    "\n"
   ]
  },
  {
   "cell_type": "code",
   "execution_count": 63,
   "metadata": {},
   "outputs": [
    {
     "name": "stdout",
     "output_type": "stream",
     "text": [
      "(842, 64, 64, 3)\n",
      "(842, 4)\n"
     ]
    }
   ],
   "source": [
    "# create end train/test dataset\n",
    "\n",
    "labels_vec = LabelEncoder().fit_transform(org_labels)\n",
    "one_hot_labels = keras.utils.to_categorical(labels_vec)\n",
    "# org_samples, one_hot_labels = shuffle(org_samples, one_hot_labels)\n",
    "\n",
    "X_train, X_test, y_train, y_test = train_test_split(org_samples, one_hot_labels, test_size=0.25, random_state=4244)\n",
    "\n",
    "print(X_train.shape)\n",
    "print(y_train.shape)"
   ]
  },
  {
   "cell_type": "code",
   "execution_count": 64,
   "metadata": {},
   "outputs": [],
   "source": [
    "# create model\n",
    "model2 = Sequential()\n",
    "model2.add(Conv2D(16, (3, 3), padding=\"same\",input_shape=(64,64,3)))\n",
    "model2.add(BatchNormalization())\n",
    "model2.add(Activation(\"relu\"))\n",
    "model2.add(MaxPooling2D(pool_size=(2, 2)))\n",
    "model2.add(Dropout(0.25))\n",
    "\n",
    "model2.add(Flatten())\n",
    "model2.add(Dense(256))\n",
    "model2.add(Activation(\"relu\"))\n",
    "model2.add(Dense(4))\n",
    "model2.add(Activation(\"softmax\"))\n",
    "model2.compile(optimizer='adam', loss='categorical_crossentropy', metrics=['accuracy'])\n"
   ]
  },
  {
   "cell_type": "code",
   "execution_count": 65,
   "metadata": {},
   "outputs": [
    {
     "name": "stdout",
     "output_type": "stream",
     "text": [
      "Epoch 1/24\n",
      "53/53 [==============================] - 4s 64ms/step - loss: 2.8168 - accuracy: 0.6758 - val_loss: 2.5046 - val_accuracy: 0.6690\n",
      "Epoch 2/24\n",
      "53/53 [==============================] - 4s 68ms/step - loss: 0.5177 - accuracy: 0.8420 - val_loss: 2.5716 - val_accuracy: 0.6121\n",
      "Epoch 3/24\n",
      "53/53 [==============================] - 3s 48ms/step - loss: 0.3571 - accuracy: 0.8729 - val_loss: 1.7585 - val_accuracy: 0.6940\n",
      "Epoch 4/24\n",
      "53/53 [==============================] - 3s 51ms/step - loss: 0.3031 - accuracy: 0.9002 - val_loss: 0.5674 - val_accuracy: 0.8327\n",
      "Epoch 5/24\n",
      "53/53 [==============================] - 3s 50ms/step - loss: 0.1230 - accuracy: 0.9667 - val_loss: 0.3901 - val_accuracy: 0.8719\n",
      "Epoch 6/24\n",
      "53/53 [==============================] - 3s 62ms/step - loss: 0.1007 - accuracy: 0.9620 - val_loss: 0.3192 - val_accuracy: 0.9181\n",
      "Epoch 7/24\n",
      "53/53 [==============================] - 3s 56ms/step - loss: 0.0948 - accuracy: 0.9667 - val_loss: 0.2625 - val_accuracy: 0.9181\n",
      "Epoch 8/24\n",
      "53/53 [==============================] - 3s 57ms/step - loss: 0.0642 - accuracy: 0.9762 - val_loss: 0.3578 - val_accuracy: 0.8861\n",
      "Epoch 9/24\n",
      "53/53 [==============================] - 3s 51ms/step - loss: 0.0854 - accuracy: 0.9667 - val_loss: 0.7864 - val_accuracy: 0.8256\n",
      "Epoch 10/24\n",
      "53/53 [==============================] - 3s 59ms/step - loss: 0.0757 - accuracy: 0.9715 - val_loss: 0.6753 - val_accuracy: 0.8505\n",
      "Epoch 11/24\n",
      "53/53 [==============================] - 4s 69ms/step - loss: 0.1001 - accuracy: 0.9679 - val_loss: 0.3432 - val_accuracy: 0.9181\n",
      "Epoch 12/24\n",
      "53/53 [==============================] - 3s 57ms/step - loss: 0.0565 - accuracy: 0.9798 - val_loss: 0.4647 - val_accuracy: 0.9181\n",
      "Epoch 13/24\n",
      "53/53 [==============================] - 3s 53ms/step - loss: 0.0265 - accuracy: 0.9905 - val_loss: 0.4871 - val_accuracy: 0.8932\n",
      "Epoch 14/24\n",
      "53/53 [==============================] - 3s 52ms/step - loss: 0.0523 - accuracy: 0.9869 - val_loss: 0.6550 - val_accuracy: 0.8577\n",
      "Epoch 15/24\n",
      "53/53 [==============================] - 3s 56ms/step - loss: 0.1271 - accuracy: 0.9584 - val_loss: 0.4208 - val_accuracy: 0.9075\n",
      "Epoch 16/24\n",
      "53/53 [==============================] - 3s 53ms/step - loss: 0.0291 - accuracy: 0.9881 - val_loss: 0.4024 - val_accuracy: 0.9004\n",
      "Epoch 17/24\n",
      "53/53 [==============================] - 3s 53ms/step - loss: 0.0620 - accuracy: 0.9834 - val_loss: 0.5705 - val_accuracy: 0.8719\n",
      "Epoch 18/24\n",
      "53/53 [==============================] - 3s 59ms/step - loss: 0.0569 - accuracy: 0.9798 - val_loss: 0.5717 - val_accuracy: 0.8754\n",
      "Epoch 19/24\n",
      "53/53 [==============================] - 3s 62ms/step - loss: 0.0221 - accuracy: 0.9941 - val_loss: 0.4761 - val_accuracy: 0.8826\n",
      "Epoch 20/24\n",
      "53/53 [==============================] - 3s 62ms/step - loss: 0.0219 - accuracy: 0.9941 - val_loss: 0.4720 - val_accuracy: 0.9039\n",
      "Epoch 21/24\n",
      "53/53 [==============================] - 4s 73ms/step - loss: 0.0170 - accuracy: 0.9952 - val_loss: 0.4987 - val_accuracy: 0.9004\n",
      "Epoch 22/24\n",
      "53/53 [==============================] - 3s 63ms/step - loss: 0.0159 - accuracy: 0.9929 - val_loss: 0.5361 - val_accuracy: 0.9039\n",
      "Epoch 23/24\n",
      "53/53 [==============================] - 3s 65ms/step - loss: 0.0104 - accuracy: 0.9964 - val_loss: 0.3936 - val_accuracy: 0.9075\n",
      "Epoch 24/24\n",
      "53/53 [==============================] - 3s 63ms/step - loss: 0.0120 - accuracy: 0.9964 - val_loss: 0.5379 - val_accuracy: 0.8932\n"
     ]
    },
    {
     "data": {
      "text/plain": [
       "<keras.callbacks.History at 0x159b24580>"
      ]
     },
     "execution_count": 65,
     "metadata": {},
     "output_type": "execute_result"
    }
   ],
   "source": [
    "# train model\n",
    "model2.fit(X_train, y_train, validation_data=(X_test, y_test), epochs=24, batch_size=16)"
   ]
  },
  {
   "cell_type": "code",
   "execution_count": 66,
   "metadata": {},
   "outputs": [
    {
     "name": "stdout",
     "output_type": "stream",
     "text": [
      "[[76  3  1  1]\n",
      " [ 8 43  0  0]\n",
      " [11  4 42  1]\n",
      " [ 0  1  0 90]]\n",
      "              precision    recall  f1-score   support\n",
      "\n",
      "           0       0.80      0.94      0.86        81\n",
      "           1       0.84      0.84      0.84        51\n",
      "           2       0.98      0.72      0.83        58\n",
      "           3       0.98      0.99      0.98        91\n",
      "\n",
      "    accuracy                           0.89       281\n",
      "   macro avg       0.90      0.87      0.88       281\n",
      "weighted avg       0.90      0.89      0.89       281\n",
      "\n",
      "Cohen's Kappa: 0.8541497257738023\n",
      "Accuracy:  0.8932384341637011\n"
     ]
    }
   ],
   "source": [
    "testResults = model2.predict(X_test)\n",
    "\n",
    "print(confusion_matrix(y_test.argmax(axis=1), testResults.argmax(axis=1)))\n",
    "print(classification_report(y_test.argmax(axis=1), testResults.argmax(axis=1)))\n",
    "print(\"Cohen's Kappa: {}\".format(cohen_kappa_score(y_test.argmax(axis=1), testResults.argmax(axis=1))))\n",
    "print(\"Accuracy: \",accuracy_score(y_test.argmax(axis=1), testResults.argmax(axis=1)))"
   ]
  },
  {
   "cell_type": "markdown",
   "metadata": {},
   "source": [
    "```\n",
    "[[74  4  3  0]\n",
    " [ 7 44  0  0]\n",
    " [ 3  4 50  1]\n",
    " [ 0  0  1 90]]\n",
    "              precision    recall  f1-score   support\n",
    "\n",
    "           0       0.88      0.91      0.90        81\n",
    "           1       0.85      0.86      0.85        51\n",
    "           2       0.93      0.86      0.89        58\n",
    "           3       0.99      0.99      0.99        91\n",
    "\n",
    "    accuracy                           0.92       281\n",
    "   macro avg       0.91      0.91      0.91       281\n",
    "weighted avg       0.92      0.92      0.92       281\n",
    "\n",
    "Cohen's Kappa: 0.8887454382703298\n",
    "Accuracy:  0.9181494661921709\n",
    "```"
   ]
  }
 ],
 "metadata": {
  "interpreter": {
   "hash": "aee8b7b246df8f9039afb4144a1f6fd8d2ca17a180786b69acc140d282b71a49"
  },
  "kernelspec": {
   "display_name": "Python 3.9.5 64-bit",
   "language": "python",
   "name": "python3"
  },
  "language_info": {
   "codemirror_mode": {
    "name": "ipython",
    "version": 3
   },
   "file_extension": ".py",
   "mimetype": "text/x-python",
   "name": "python",
   "nbconvert_exporter": "python",
   "pygments_lexer": "ipython3",
   "version": "3.9.5"
  },
  "orig_nbformat": 4
 },
 "nbformat": 4,
 "nbformat_minor": 2
}
